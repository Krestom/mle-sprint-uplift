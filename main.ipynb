{
 "cells": [
  {
   "cell_type": "code",
   "execution_count": 3,
   "id": "8e100043",
   "metadata": {},
   "outputs": [
    {
     "name": "stderr",
     "output_type": "stream",
     "text": [
      "/home/mle-user/mle-uplift/mle_uplift/lib/python3.10/site-packages/tqdm/auto.py:21: TqdmWarning: IProgress not found. Please update jupyter and ipywidgets. See https://ipywidgets.readthedocs.io/en/stable/user_install.html\n",
      "  from .autonotebook import tqdm as notebook_tqdm\n",
      "Failed to import duecredit due to No module named 'duecredit'\n"
     ]
    }
   ],
   "source": [
    "# загружаем необходимые библиотеки\n",
    "import warnings\n",
    "\n",
    "import numpy as np\n",
    "import pandas as pd\n",
    "from sklearn.model_selection import train_test_split\n",
    "from causalml.inference.tree import UpliftTreeClassifier\n",
    "\n",
    "warnings.filterwarnings(\"ignore\")"
   ]
  },
  {
   "cell_type": "code",
   "execution_count": 5,
   "id": "ae9dd521",
   "metadata": {},
   "outputs": [],
   "source": [
    "# загружаем датафрейм\n",
    "df = pd.read_csv(\"discountuplift.csv\", sep=\"\\t\")\n",
    "\n",
    "df[\"old_target\"] = (df[\"target_class\"] % 2).apply(int)\n",
    "\n",
    "feature_cols = [\n",
    "    \"recency\",\n",
    "    \"history\",\n",
    "    \"used_discount\",\n",
    "    \"used_bogo\",\n",
    "    \"is_referral\",\n",
    "    \"zip_code_Rural\",\n",
    "    \"zip_code_Surburban\",\n",
    "    \"zip_code_Urban\",\n",
    "    \"channel_Multichannel\",\n",
    "    \"channel_Phone\",\n",
    "    \"channel_Web\",\n",
    "]\n",
    "target_col = \"old_target\"\n",
    "treatment_col = \"treatment\"\n",
    "\n",
    "# разобъём нашу выборку на тестовую и валидационную\n",
    "df_train, df_test = train_test_split(\n",
    "    df, stratify=df[[treatment_col, target_col]], random_state=1, test_size=0.25\n",
    ")"
   ]
  },
  {
   "cell_type": "code",
   "execution_count": 6,
   "id": "cc90d23d",
   "metadata": {},
   "outputs": [],
   "source": [
    "# создадим uplift-дерево\n",
    "uplift_model = UpliftTreeClassifier(\n",
    "    max_depth=5,\n",
    "    min_samples_leaf=200,\n",
    "    min_samples_treatment=50,\n",
    "    n_reg=100,\n",
    "    evaluationFunction=\"ED\",\n",
    "    control_name=\"0\",\n",
    ")\n",
    "\n",
    "uplift_model.fit(\n",
    "    df_train[feature_cols].values,\n",
    "    treatment=df_train[treatment_col].apply(str).values,\n",
    "    y=df_train[target_col].values,\n",
    ")"
   ]
  },
  {
   "cell_type": "code",
   "execution_count": 7,
   "id": "08c910da",
   "metadata": {},
   "outputs": [],
   "source": [
    "# загружаем необходимые библиотеки\n",
    "import pickle\n",
    "\n",
    "with open(\"model.pkl\", \"wb\") as f:\n",
    "    pickle.dump(uplift_model, f)"
   ]
  },
  {
   "cell_type": "code",
   "execution_count": null,
   "id": "3196b024",
   "metadata": {},
   "outputs": [],
   "source": []
  }
 ],
 "metadata": {
  "kernelspec": {
   "display_name": "mle_uplift",
   "language": "python",
   "name": "python3"
  },
  "language_info": {
   "codemirror_mode": {
    "name": "ipython",
    "version": 3
   },
   "file_extension": ".py",
   "mimetype": "text/x-python",
   "name": "python",
   "nbconvert_exporter": "python",
   "pygments_lexer": "ipython3",
   "version": "3.10.12"
  }
 },
 "nbformat": 4,
 "nbformat_minor": 5
}
